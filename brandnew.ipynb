{
 "cells": [
  {
   "cell_type": "code",
   "execution_count": 47,
   "metadata": {},
   "outputs": [],
   "source": [
    "import os,shutil\n",
    "from keras.preprocessing.image import ImageDataGenerator\n",
    "import csv\n",
    "import numpy as np\n",
    "from matplotlib import pyplot as plt\n",
    "from keras import layers\n",
    "from keras import models\n",
    "\n",
    "csv_file=csv.reader(open('train.csv','r'))\n",
    "label465=np.zeros(shape=(465))\n",
    "label400=np.zeros(shape=(400))\n",
    "label65=np.zeros(shape=(65))\n",
    "\n",
    "n=0\n",
    "for m in csv_file:\n",
    "    label465[n]=m[1]\n",
    "    n=n+1\n",
    "for o in range(0,400):\n",
    "    label400[o]=label465[o]\n",
    "for p in range(0,65):\n",
    "    label65[p]=label465[p+400]\n",
    "labelswap=np.append(label400,label400)\n",
    "csv_file=csv.reader(open('test.csv','r'))\n",
    "label117=np.zeros(shape=(117))\n",
    "q=0\n",
    "for p in csv_file:\n",
    "    label117[q]=p[1]\n",
    "    q=q+1\n",
    "for i in range(0,117):\n",
    "    if(label117[i]>0.5):\n",
    "        label117[i]=1\n",
    "    else:\n",
    "        label117[i]=0\n",
    "label4=np.append(label400,label117)"
   ]
  },
  {
   "cell_type": "code",
   "execution_count": 48,
   "metadata": {},
   "outputs": [],
   "source": [
    "import random\n",
    "path='train_val'\n",
    "image_files=sorted(os.listdir(path))\n",
    "train465=np.zeros(shape=(465,30,30,30))\n",
    "train400=np.zeros(shape=(400,30,30,30))\n",
    "train65=np.zeros(shape=(65,30,30,30))\n",
    "\n",
    "samplepair=np.zeros(shape=(400,30,30,30))\n",
    "labelsample=np.zeros(shape=(400))\n",
    "\n",
    "\n",
    "mixup=np.zeros(shape=(400,30,30,30))\n",
    "labelmixup=np.zeros(shape=(400))\n",
    "\n",
    "swap=np.swapaxes(train400,1,2)\n",
    "j=0\n",
    "for i in image_files:\n",
    "    tmp = np.load(os.path.join(path,i))\n",
    "    train465[j]=tmp['voxel'][35:65,35:65,35:65]/255.0\n",
    "    j=j+1\n",
    "for q in range(0,400):\n",
    "    train400[q]=train465[q]\n",
    "    \n",
    "for r in range(0,65):\n",
    "    train65[r]=train465[r+400]\n",
    "\n",
    "for s in range(0,400):\n",
    "    a=random.randint(0,399)\n",
    "    b=random.randint(0,399)\n",
    "    samplepair[s]=0.5*train400[a]+0.5*train400[b]\n",
    "    labelsample[s]=label400[a]\n",
    "for s in range(0,400):\n",
    "    e=random.randint(0,399)\n",
    "    f=random.randint(0,399)\n",
    "    mixup[s]=0.5*train400[e]+0.5*train400[f]\n",
    "    labelmixup[s]=0.5*label400[e]+0.5*label400[f]\n",
    "\n",
    "\n",
    "train4=np.append(train400,c)\n",
    "train4=train4.reshape(517,30,30,30,1)\n",
    "samplefinal=np.append(samplepair,train400)\n",
    "labelfinal=np.append(labelsample,label400)\n",
    "samplefinal=samplefinal.reshape(800,30,30,30,1)\n",
    "\n",
    "mixupfinal=np.append(mixup,train400)\n",
    "mixupfinal=mixupfinal.reshape(800,30,30,30,1)\n",
    "swapfinal=np.append(swap,train400)\n",
    "swapfinal=swapfinal.reshape(800,30,30,30,1)\n",
    "train465=train465.reshape(465,30,30,30,1)\n",
    "train400=train400.reshape(400,30,30,30,1)\n",
    "train65=train65.reshape(65,30,30,30,1)   \n",
    "\n"
   ]
  },
  {
   "cell_type": "code",
   "execution_count": 49,
   "metadata": {},
   "outputs": [],
   "source": [
    "from keras import regularizers\n",
    "model1=models.Sequential()\n",
    "model1.add(layers.Conv3D(32,(3,3,3),activation='relu',input_shape=(30,30,30,1)))\n",
    "\n",
    "model1.add(layers.MaxPooling3D((2,2,2)))\n",
    "model1.add(layers.Conv3D(64,(3,3,3),activation='relu'))\n",
    "\n",
    "model1.add(layers.MaxPooling3D((2,2,2)))\n",
    "\n",
    "\n",
    "model1.add(layers.Flatten())\n",
    "model1.add(layers.Dropout(0.4))\n",
    "model1.add(layers.Dense(1024,activation='relu'))\n",
    "model1.add(layers.Dense(1,activation='sigmoid'))\n",
    "\n",
    "from keras import optimizers\n",
    "\n",
    "model1.compile(loss='binary_crossentropy',optimizer=optimizers.RMSprop(lr=0.0001),metrics=['accuracy'])"
   ]
  },
  {
   "cell_type": "code",
   "execution_count": 50,
   "metadata": {
    "scrolled": true
   },
   "outputs": [
    {
     "name": "stdout",
     "output_type": "stream",
     "text": [
      "Train on 413 samples, validate on 104 samples\n",
      "Epoch 1/1\n",
      "413/413 [==============================] - 11s 28ms/step - loss: 0.7007 - acc: 0.5448 - val_loss: 0.6077 - val_acc: 0.7115\n"
     ]
    },
    {
     "data": {
      "text/plain": [
       "<keras.callbacks.History at 0x7fc882df29b0>"
      ]
     },
     "execution_count": 50,
     "metadata": {},
     "output_type": "execute_result"
    }
   ],
   "source": [
    "from keras.callbacks import EarlyStopping\n",
    "early_stopping2=EarlyStopping(monitor='val_loss',patience=4,mode='min')\n",
    "model1.fit(train4,label4,epochs=1,batch_size=32,validation_split=0.2,callbacks=[early_stopping2])#epochs手动调试"
   ]
  },
  {
   "cell_type": "code",
   "execution_count": 51,
   "metadata": {},
   "outputs": [
    {
     "name": "stdout",
     "output_type": "stream",
     "text": [
      "65/65 [==============================] - 0s 7ms/step\n",
      "[0.6693436164122362, 0.5846153846153846]\n"
     ]
    }
   ],
   "source": [
    "eva=model1.evaluate(train65,label65)\n",
    "print(eva)"
   ]
  },
  {
   "cell_type": "code",
   "execution_count": 52,
   "metadata": {},
   "outputs": [
    {
     "name": "stdout",
     "output_type": "stream",
     "text": [
      "Train on 640 samples, validate on 160 samples\n",
      "Epoch 1/5\n",
      "640/640 [==============================] - 15s 24ms/step - loss: 0.6741 - acc: 0.5844 - val_loss: 0.6418 - val_acc: 0.5938\n",
      "Epoch 2/5\n",
      "640/640 [==============================] - 15s 24ms/step - loss: 0.6554 - acc: 0.6375 - val_loss: 0.6576 - val_acc: 0.5563\n",
      "Epoch 3/5\n",
      "640/640 [==============================] - 15s 23ms/step - loss: 0.6448 - acc: 0.6297 - val_loss: 0.6406 - val_acc: 0.5687\n",
      "Epoch 4/5\n",
      "640/640 [==============================] - 16s 26ms/step - loss: 0.6182 - acc: 0.6672 - val_loss: 0.6408 - val_acc: 0.5813\n",
      "Epoch 5/5\n",
      "640/640 [==============================] - 15s 23ms/step - loss: 0.6082 - acc: 0.6953 - val_loss: 0.6154 - val_acc: 0.6562\n"
     ]
    },
    {
     "data": {
      "text/plain": [
       "<keras.callbacks.History at 0x7fc882df2a20>"
      ]
     },
     "execution_count": 52,
     "metadata": {},
     "output_type": "execute_result"
    }
   ],
   "source": [
    "model1.fit(samplefinal,labelfinal,epochs=5,batch_size=32,validation_split=0.2,callbacks=[early_stopping2])"
   ]
  },
  {
   "cell_type": "code",
   "execution_count": 46,
   "metadata": {},
   "outputs": [
    {
     "ename": "NameError",
     "evalue": "name 'modelsave' is not defined",
     "output_type": "error",
     "traceback": [
      "\u001b[0;31m---------------------------------------------------------------------------\u001b[0m",
      "\u001b[0;31mNameError\u001b[0m                                 Traceback (most recent call last)",
      "\u001b[0;32m<ipython-input-46-8370f3c9f8b4>\u001b[0m in \u001b[0;36m<module>\u001b[0;34m()\u001b[0m\n\u001b[1;32m      1\u001b[0m \u001b[0mmodel1\u001b[0m\u001b[0;34m.\u001b[0m\u001b[0msave\u001b[0m\u001b[0;34m(\u001b[0m\u001b[0;34m'my_model4.h5'\u001b[0m\u001b[0;34m)\u001b[0m\u001b[0;34m\u001b[0m\u001b[0m\n\u001b[0;32m----> 2\u001b[0;31m \u001b[0mmodelsave\u001b[0m\u001b[0;34m==\u001b[0m\u001b[0mmodels\u001b[0m\u001b[0;34m.\u001b[0m\u001b[0mload_model\u001b[0m\u001b[0;34m(\u001b[0m\u001b[0;34m'my_model4.h5'\u001b[0m\u001b[0;34m)\u001b[0m\u001b[0;34m\u001b[0m\u001b[0m\n\u001b[0m",
      "\u001b[0;31mNameError\u001b[0m: name 'modelsave' is not defined"
     ]
    }
   ],
   "source": [
    "model1.save('my_model4.h5')\n",
    "modelsave==models.load_model('my_model4.h5')"
   ]
  },
  {
   "cell_type": "code",
   "execution_count": 15,
   "metadata": {
    "scrolled": true
   },
   "outputs": [
    {
     "name": "stdout",
     "output_type": "stream",
     "text": [
      "65/65 [==============================] - 0s 7ms/step\n",
      "[0.7057061708890475, 0.5538461538461539]\n"
     ]
    }
   ],
   "source": [
    "eva=model1.evaluate(train65,label65)\n",
    "print(eva)"
   ]
  },
  {
   "cell_type": "code",
   "execution_count": 21,
   "metadata": {},
   "outputs": [
    {
     "name": "stdout",
     "output_type": "stream",
     "text": [
      "[[0.7168231 ]\n",
      " [0.3976467 ]\n",
      " [0.47626   ]\n",
      " [0.9341206 ]\n",
      " [0.42453057]\n",
      " [0.67844194]\n",
      " [0.702422  ]\n",
      " [0.59924906]\n",
      " [0.45456633]\n",
      " [0.5081272 ]\n",
      " [0.47062817]\n",
      " [0.83767134]\n",
      " [0.6994971 ]\n",
      " [0.41104567]\n",
      " [0.33384046]\n",
      " [0.56978536]\n",
      " [0.7479873 ]\n",
      " [0.40999103]\n",
      " [0.67682844]\n",
      " [0.65185046]\n",
      " [0.81583565]\n",
      " [0.66584885]\n",
      " [0.5642184 ]\n",
      " [0.49157634]\n",
      " [0.8724612 ]\n",
      " [0.9153406 ]\n",
      " [0.67426133]\n",
      " [0.5282696 ]\n",
      " [0.4873438 ]\n",
      " [0.46090215]\n",
      " [0.7588322 ]\n",
      " [0.50868523]\n",
      " [0.63282233]\n",
      " [0.54059243]\n",
      " [0.4413819 ]\n",
      " [0.55233514]\n",
      " [0.76761603]\n",
      " [0.65770173]\n",
      " [0.82338536]\n",
      " [0.4182033 ]\n",
      " [0.7609011 ]\n",
      " [0.76655805]\n",
      " [0.489962  ]\n",
      " [0.7277554 ]\n",
      " [0.79878   ]\n",
      " [0.8230746 ]\n",
      " [0.4411409 ]\n",
      " [0.43290237]\n",
      " [0.5559587 ]\n",
      " [0.59411407]\n",
      " [0.50527453]\n",
      " [0.50793684]\n",
      " [0.6354553 ]\n",
      " [0.609521  ]\n",
      " [0.53169334]\n",
      " [0.58743185]\n",
      " [0.83007675]\n",
      " [0.8209094 ]\n",
      " [0.66582364]\n",
      " [0.4667226 ]\n",
      " [0.37256026]\n",
      " [0.7285701 ]\n",
      " [0.40157145]\n",
      " [0.8115135 ]\n",
      " [0.59788585]\n",
      " [0.5161753 ]\n",
      " [0.6173512 ]\n",
      " [0.49215698]\n",
      " [0.4914931 ]\n",
      " [0.81761694]\n",
      " [0.5006844 ]\n",
      " [0.56365085]\n",
      " [0.6674998 ]\n",
      " [0.63450414]\n",
      " [0.6128887 ]\n",
      " [0.33794907]\n",
      " [0.6255156 ]\n",
      " [0.86566913]\n",
      " [0.3704751 ]\n",
      " [0.7514621 ]\n",
      " [0.8537818 ]\n",
      " [0.8902329 ]\n",
      " [0.6762465 ]\n",
      " [0.5111643 ]\n",
      " [0.4566399 ]\n",
      " [0.8331326 ]\n",
      " [0.90128404]\n",
      " [0.8245174 ]\n",
      " [0.4347922 ]\n",
      " [0.5621745 ]\n",
      " [0.6435354 ]\n",
      " [0.6134415 ]\n",
      " [0.6841835 ]\n",
      " [0.6256608 ]\n",
      " [0.54348624]\n",
      " [0.44424626]\n",
      " [0.8751178 ]\n",
      " [0.8128336 ]\n",
      " [0.8743831 ]\n",
      " [0.8664174 ]\n",
      " [0.6084194 ]\n",
      " [0.7991787 ]\n",
      " [0.585823  ]\n",
      " [0.5762612 ]\n",
      " [0.8175087 ]\n",
      " [0.6105359 ]\n",
      " [0.6466923 ]\n",
      " [0.63069135]\n",
      " [0.77140784]\n",
      " [0.56311363]\n",
      " [0.51631445]\n",
      " [0.7426406 ]\n",
      " [0.6850853 ]\n",
      " [0.48164696]\n",
      " [0.58987916]\n",
      " [0.3730691 ]\n",
      " [0.7708273 ]]\n"
     ]
    }
   ],
   "source": [
    "c=np.zeros(shape=(117,30,30,30))\n",
    "paths='test'\n",
    "test_files=sorted(os.listdir(paths))\n",
    "p=0\n",
    "for q in test_files:\n",
    "    \n",
    "    tmp = np.load(os.path.join(paths,q))\n",
    "    c[p]=tmp['voxel'][35:65,35:65,35:65]/255.0\n",
    "    p=p+1\n",
    "\n",
    "c=c.reshape((117,30,30,30,1))\n",
    "\n",
    "\n",
    "score=model1.predict(c)\n",
    "print(score)"
   ]
  },
  {
   "cell_type": "code",
   "execution_count": 45,
   "metadata": {},
   "outputs": [],
   "source": [
    "model1.save('my_model1.h5')\n",
    "model1save=keras.models.load_model('my_model1.h5')"
   ]
  },
  {
   "cell_type": "code",
   "execution_count": 33,
   "metadata": {},
   "outputs": [],
   "source": [
    "model2=models.Sequential()\n",
    "model2.add(layers.Conv3D(32,(3,3,3),activation='relu',input_shape=(30,30,30,1)))\n",
    "\n",
    "model2.add(layers.MaxPooling3D((2,2,2)))\n",
    "model2.add(layers.Conv3D(64,(3,3,3),activation='relu'))\n",
    "\n",
    "model2.add(layers.MaxPooling3D((2,2,2)))\n",
    "\n",
    "\n",
    "model2.add(layers.Flatten())\n",
    "model2.add(layers.Dropout(0.4))\n",
    "model2.add(layers.Dense(1024,activation='relu'))\n",
    "model2.add(layers.Dense(1,activation='sigmoid'))\n",
    "\n",
    "from keras import optimizers\n",
    "\n",
    "model2.compile(loss='binary_crossentropy',optimizer=optimizers.RMSprop(lr=0.0001),metrics=['accuracy'])"
   ]
  },
  {
   "cell_type": "code",
   "execution_count": 34,
   "metadata": {
    "scrolled": true
   },
   "outputs": [
    {
     "name": "stdout",
     "output_type": "stream",
     "text": [
      "Train on 320 samples, validate on 80 samples\n",
      "Epoch 1/3\n",
      "320/320 [==============================] - 8s 25ms/step - loss: 0.7077 - acc: 0.4969 - val_loss: 0.6869 - val_acc: 0.5250\n",
      "Epoch 2/3\n",
      "320/320 [==============================] - 6s 20ms/step - loss: 0.6666 - acc: 0.6312 - val_loss: 0.7049 - val_acc: 0.5125\n",
      "Epoch 3/3\n",
      "320/320 [==============================] - 6s 20ms/step - loss: 0.6620 - acc: 0.6031 - val_loss: 0.6769 - val_acc: 0.5250\n"
     ]
    },
    {
     "data": {
      "text/plain": [
       "<keras.callbacks.History at 0x7f07dff141d0>"
      ]
     },
     "execution_count": 34,
     "metadata": {},
     "output_type": "execute_result"
    }
   ],
   "source": [
    "model2.fit(train400,label400,epochs=3,batch_size=32,validation_split=0.2)"
   ]
  },
  {
   "cell_type": "code",
   "execution_count": 137,
   "metadata": {},
   "outputs": [
    {
     "name": "stdout",
     "output_type": "stream",
     "text": [
      "Train on 640 samples, validate on 160 samples\n",
      "Epoch 1/1\n",
      "640/640 [==============================] - 14s 22ms/step - loss: 0.4710 - acc: 0.5563 - val_loss: 0.5364 - val_acc: 0.7312\n"
     ]
    },
    {
     "data": {
      "text/plain": [
       "<keras.callbacks.History at 0x7f6fe92a8b00>"
      ]
     },
     "execution_count": 137,
     "metadata": {},
     "output_type": "execute_result"
    }
   ],
   "source": [
    "model2.fit(mixupfinal,labelmixupfinal,epochs=1,batch_size=32,validation_split=0.2,callbacks=[early_stopping2])"
   ]
  },
  {
   "cell_type": "code",
   "execution_count": 138,
   "metadata": {},
   "outputs": [
    {
     "name": "stdout",
     "output_type": "stream",
     "text": [
      "65/65 [==============================] - 0s 6ms/step\n",
      "[0.7901287106367257, 0.5384615384615384]\n"
     ]
    }
   ],
   "source": [
    "eva2=model2.evaluate(train65,label65)\n",
    "print(eva2)"
   ]
  },
  {
   "cell_type": "code",
   "execution_count": 65,
   "metadata": {},
   "outputs": [],
   "source": [
    "model2.save('my_model2.h5')\n",
    "model2save=keras.models.load_model('my_model2.h5')"
   ]
  },
  {
   "cell_type": "code",
   "execution_count": 92,
   "metadata": {},
   "outputs": [
    {
     "name": "stdout",
     "output_type": "stream",
     "text": [
      "[[0.5409618 ]\n",
      " [0.48130608]\n",
      " [0.5023697 ]\n",
      " [0.918199  ]\n",
      " [0.38078427]\n",
      " [0.68815327]\n",
      " [0.6221941 ]\n",
      " [0.61075795]\n",
      " [0.5889826 ]\n",
      " [0.6157326 ]\n",
      " [0.61123925]\n",
      " [0.8689493 ]\n",
      " [0.6871264 ]\n",
      " [0.3722501 ]\n",
      " [0.53952265]\n",
      " [0.56172264]\n",
      " [0.7550874 ]\n",
      " [0.4861538 ]\n",
      " [0.5511708 ]\n",
      " [0.6257304 ]\n",
      " [0.8069252 ]\n",
      " [0.6623259 ]\n",
      " [0.59943384]\n",
      " [0.6189102 ]\n",
      " [0.8369938 ]\n",
      " [0.8641398 ]\n",
      " [0.61751497]\n",
      " [0.5359121 ]\n",
      " [0.42753834]\n",
      " [0.49731904]\n",
      " [0.72360295]\n",
      " [0.5285295 ]\n",
      " [0.6672171 ]\n",
      " [0.678749  ]\n",
      " [0.44511956]\n",
      " [0.5225738 ]\n",
      " [0.7938489 ]\n",
      " [0.67486864]\n",
      " [0.78453636]\n",
      " [0.41087282]\n",
      " [0.74758065]\n",
      " [0.75141054]\n",
      " [0.61515045]\n",
      " [0.79998815]\n",
      " [0.80905217]\n",
      " [0.79256773]\n",
      " [0.5720327 ]\n",
      " [0.38695008]\n",
      " [0.5462779 ]\n",
      " [0.5436133 ]\n",
      " [0.5594635 ]\n",
      " [0.54089814]\n",
      " [0.6146288 ]\n",
      " [0.67220026]\n",
      " [0.5271485 ]\n",
      " [0.53931737]\n",
      " [0.80304366]\n",
      " [0.8388326 ]\n",
      " [0.6118367 ]\n",
      " [0.61292017]\n",
      " [0.46928132]\n",
      " [0.74340546]\n",
      " [0.48434404]\n",
      " [0.7945712 ]\n",
      " [0.6675482 ]\n",
      " [0.50483644]\n",
      " [0.5778162 ]\n",
      " [0.55774546]\n",
      " [0.6322199 ]\n",
      " [0.7565576 ]\n",
      " [0.5195486 ]\n",
      " [0.53686786]\n",
      " [0.6828855 ]\n",
      " [0.7035118 ]\n",
      " [0.5273921 ]\n",
      " [0.4884426 ]\n",
      " [0.63605756]\n",
      " [0.7986804 ]\n",
      " [0.5538328 ]\n",
      " [0.60781294]\n",
      " [0.83435524]\n",
      " [0.8572035 ]\n",
      " [0.65719706]\n",
      " [0.5344631 ]\n",
      " [0.4647119 ]\n",
      " [0.7907402 ]\n",
      " [0.89389145]\n",
      " [0.7860402 ]\n",
      " [0.40788043]\n",
      " [0.5592599 ]\n",
      " [0.6202005 ]\n",
      " [0.6876466 ]\n",
      " [0.6361056 ]\n",
      " [0.63921404]\n",
      " [0.69089997]\n",
      " [0.450207  ]\n",
      " [0.8403595 ]\n",
      " [0.746294  ]\n",
      " [0.8000989 ]\n",
      " [0.8228859 ]\n",
      " [0.6436747 ]\n",
      " [0.78287995]\n",
      " [0.561984  ]\n",
      " [0.5515728 ]\n",
      " [0.82490575]\n",
      " [0.6710774 ]\n",
      " [0.6120676 ]\n",
      " [0.68505776]\n",
      " [0.81908965]\n",
      " [0.5556112 ]\n",
      " [0.5121542 ]\n",
      " [0.68122345]\n",
      " [0.66817063]\n",
      " [0.44479963]\n",
      " [0.5575559 ]\n",
      " [0.37923047]\n",
      " [0.77537763]]\n"
     ]
    }
   ],
   "source": [
    "score2=model2save.predict(c)\n",
    "print(score2)"
   ]
  },
  {
   "cell_type": "code",
   "execution_count": 98,
   "metadata": {},
   "outputs": [
    {
     "name": "stdout",
     "output_type": "stream",
     "text": [
      "26\n",
      "0\n"
     ]
    }
   ],
   "source": [
    "a=0\n",
    "for i in range(0,117):\n",
    "    if (((score2[i]<0.3)&(score[i]<0.53))|((score2[i]>0.7)&(score[i]>0.7))):\n",
    "        a=a+1\n",
    "print(a)\n",
    "b=0\n",
    "for i in range(0,117):\n",
    "    if (((score2[i]<0.3)&(score[i]>0.7))|((score2[i]>0.7)&(score[i]<0.3))):\n",
    "        b=b+1\n",
    "print(b)"
   ]
  },
  {
   "cell_type": "code",
   "execution_count": 23,
   "metadata": {},
   "outputs": [],
   "source": [
    "model3=models.Sequential()\n",
    "model3.add(layers.Conv3D(32,(3,3,3),activation='relu',input_shape=(30,30,30,1)))\n",
    "\n",
    "model3.add(layers.MaxPooling3D((2,2,2)))\n",
    "model3.add(layers.Conv3D(64,(3,3,3),activation='relu'))\n",
    "\n",
    "model3.add(layers.MaxPooling3D((2,2,2)))\n",
    "\n",
    "\n",
    "model3.add(layers.Flatten())\n",
    "model3.add(layers.Dropout(0.4))\n",
    "model3.add(layers.Dense(1024,activation='relu'))\n",
    "model3.add(layers.Dense(1,activation='sigmoid'))\n",
    "\n",
    "from keras import optimizers\n",
    "\n",
    "model3.compile(loss='binary_crossentropy',optimizer=optimizers.RMSprop(lr=0.0001),metrics=['accuracy'])"
   ]
  },
  {
   "cell_type": "code",
   "execution_count": 24,
   "metadata": {},
   "outputs": [
    {
     "name": "stdout",
     "output_type": "stream",
     "text": [
      "Train on 320 samples, validate on 80 samples\n",
      "Epoch 1/5\n",
      "320/320 [==============================] - 8s 25ms/step - loss: 0.6958 - acc: 0.5375 - val_loss: 0.7269 - val_acc: 0.5000\n",
      "Epoch 2/5\n",
      "320/320 [==============================] - 6s 20ms/step - loss: 0.6785 - acc: 0.5719 - val_loss: 0.6755 - val_acc: 0.5000\n",
      "Epoch 3/5\n",
      "320/320 [==============================] - 6s 20ms/step - loss: 0.6386 - acc: 0.6594 - val_loss: 0.7303 - val_acc: 0.5125\n",
      "Epoch 4/5\n",
      "320/320 [==============================] - 6s 20ms/step - loss: 0.6306 - acc: 0.6437 - val_loss: 0.6862 - val_acc: 0.5000\n",
      "Epoch 5/5\n",
      "320/320 [==============================] - 6s 20ms/step - loss: 0.6133 - acc: 0.6437 - val_loss: 0.6856 - val_acc: 0.4625\n"
     ]
    },
    {
     "data": {
      "text/plain": [
       "<keras.callbacks.History at 0x7f07c750a828>"
      ]
     },
     "execution_count": 24,
     "metadata": {},
     "output_type": "execute_result"
    }
   ],
   "source": [
    "model3.fit(train400,label400,epochs=5,batch_size=32,validation_split=0.2)"
   ]
  },
  {
   "cell_type": "code",
   "execution_count": 26,
   "metadata": {
    "scrolled": true
   },
   "outputs": [
    {
     "name": "stdout",
     "output_type": "stream",
     "text": [
      "Train on 640 samples, validate on 160 samples\n",
      "Epoch 1/5\n",
      "640/640 [==============================] - 13s 20ms/step - loss: 0.6396 - acc: 0.6469 - val_loss: 0.6286 - val_acc: 0.6250\n",
      "Epoch 2/5\n",
      "640/640 [==============================] - 13s 20ms/step - loss: 0.6238 - acc: 0.6578 - val_loss: 0.6249 - val_acc: 0.6687\n",
      "Epoch 3/5\n",
      "640/640 [==============================] - 13s 20ms/step - loss: 0.5949 - acc: 0.7125 - val_loss: 0.6176 - val_acc: 0.6687\n",
      "Epoch 4/5\n",
      "640/640 [==============================] - 13s 20ms/step - loss: 0.5688 - acc: 0.7312 - val_loss: 0.6747 - val_acc: 0.5687\n",
      "Epoch 5/5\n",
      "640/640 [==============================] - 13s 20ms/step - loss: 0.5592 - acc: 0.7203 - val_loss: 0.6220 - val_acc: 0.6500\n"
     ]
    },
    {
     "data": {
      "text/plain": [
       "<keras.callbacks.History at 0x7f07ee261160>"
      ]
     },
     "execution_count": 26,
     "metadata": {},
     "output_type": "execute_result"
    }
   ],
   "source": [
    "model3.fit(swapfinal,labelswap,epochs=5,batch_size=32,validation_split=0.2)"
   ]
  },
  {
   "cell_type": "code",
   "execution_count": 27,
   "metadata": {},
   "outputs": [
    {
     "name": "stdout",
     "output_type": "stream",
     "text": [
      "65/65 [==============================] - 0s 6ms/step\n",
      "[0.6956161123055679, 0.6]\n"
     ]
    }
   ],
   "source": [
    "eva2=model3.evaluate(train65,label65)\n",
    "print(eva2)"
   ]
  },
  {
   "cell_type": "code",
   "execution_count": 28,
   "metadata": {},
   "outputs": [
    {
     "name": "stdout",
     "output_type": "stream",
     "text": [
      "[[0.4188062 ]\n",
      " [0.34298444]\n",
      " [0.5488532 ]\n",
      " [0.8065519 ]\n",
      " [0.5803019 ]\n",
      " [0.5090016 ]\n",
      " [0.72942114]\n",
      " [0.4160618 ]\n",
      " [0.36754084]\n",
      " [0.360031  ]\n",
      " [0.4402225 ]\n",
      " [0.57347035]\n",
      " [0.5905064 ]\n",
      " [0.36552456]\n",
      " [0.53267425]\n",
      " [0.46041775]\n",
      " [0.611719  ]\n",
      " [0.28863388]\n",
      " [0.45345825]\n",
      " [0.5227828 ]\n",
      " [0.65864825]\n",
      " [0.54706   ]\n",
      " [0.65138745]\n",
      " [0.43694803]\n",
      " [0.7292552 ]\n",
      " [0.7238175 ]\n",
      " [0.76707387]\n",
      " [0.38684106]\n",
      " [0.254462  ]\n",
      " [0.5109318 ]\n",
      " [0.6364933 ]\n",
      " [0.39824954]\n",
      " [0.5259981 ]\n",
      " [0.3350095 ]\n",
      " [0.37609282]\n",
      " [0.4298329 ]\n",
      " [0.60221326]\n",
      " [0.5267599 ]\n",
      " [0.52877796]\n",
      " [0.2840783 ]\n",
      " [0.5645223 ]\n",
      " [0.57081604]\n",
      " [0.4337801 ]\n",
      " [0.40690148]\n",
      " [0.5628629 ]\n",
      " [0.6489444 ]\n",
      " [0.42828202]\n",
      " [0.34055758]\n",
      " [0.40908062]\n",
      " [0.3657067 ]\n",
      " [0.4989976 ]\n",
      " [0.3658449 ]\n",
      " [0.44947672]\n",
      " [0.44151157]\n",
      " [0.36311543]\n",
      " [0.5888907 ]\n",
      " [0.7533396 ]\n",
      " [0.6665604 ]\n",
      " [0.4709901 ]\n",
      " [0.37159598]\n",
      " [0.43439937]\n",
      " [0.4517023 ]\n",
      " [0.28601   ]\n",
      " [0.6424357 ]\n",
      " [0.44268164]\n",
      " [0.4632809 ]\n",
      " [0.36304837]\n",
      " [0.5121583 ]\n",
      " [0.4373169 ]\n",
      " [0.75526   ]\n",
      " [0.4545716 ]\n",
      " [0.43294328]\n",
      " [0.669232  ]\n",
      " [0.41286448]\n",
      " [0.3033468 ]\n",
      " [0.25253105]\n",
      " [0.36789867]\n",
      " [0.70184463]\n",
      " [0.50362855]\n",
      " [0.41721562]\n",
      " [0.64599836]\n",
      " [0.73915446]\n",
      " [0.4902098 ]\n",
      " [0.42470947]\n",
      " [0.26555783]\n",
      " [0.65404683]\n",
      " [0.7081283 ]\n",
      " [0.6373631 ]\n",
      " [0.4345413 ]\n",
      " [0.48116484]\n",
      " [0.46509528]\n",
      " [0.56564254]\n",
      " [0.43611407]\n",
      " [0.48099217]\n",
      " [0.5097881 ]\n",
      " [0.2716165 ]\n",
      " [0.74097204]\n",
      " [0.63422006]\n",
      " [0.85039663]\n",
      " [0.77736175]\n",
      " [0.5046079 ]\n",
      " [0.54912806]\n",
      " [0.35999602]\n",
      " [0.5309903 ]\n",
      " [0.48756164]\n",
      " [0.43651843]\n",
      " [0.47683492]\n",
      " [0.48141995]\n",
      " [0.6325709 ]\n",
      " [0.45859104]\n",
      " [0.42753246]\n",
      " [0.5065529 ]\n",
      " [0.50248814]\n",
      " [0.4667651 ]\n",
      " [0.42508385]\n",
      " [0.17305304]\n",
      " [0.6174574 ]]\n"
     ]
    }
   ],
   "source": [
    "score3=model3.predict(c)\n",
    "print(score3)"
   ]
  },
  {
   "cell_type": "code",
   "execution_count": 42,
   "metadata": {},
   "outputs": [],
   "source": [
    "model3.save('my_model3.h5')\n",
    "model3save=models.load_model('my_model3.h5')\n",
    "model2save=models.load_model('my_model2.h5')\n",
    "model1save=models.load_model('my_model1.h5')"
   ]
  },
  {
   "cell_type": "code",
   "execution_count": 43,
   "metadata": {},
   "outputs": [
    {
     "name": "stdout",
     "output_type": "stream",
     "text": [
      "65/65 [==============================] - 1s 11ms/step\n",
      "[0.6956161123055679, 0.6]\n",
      "65/65 [==============================] - 1s 10ms/step\n",
      "[0.6956469609187199, 0.6153846153846154]\n",
      "65/65 [==============================] - 1s 10ms/step\n",
      "[0.7323742472208463, 0.6153846153846154]\n"
     ]
    }
   ],
   "source": [
    "eva3=model3save.evaluate(train65,label65)\n",
    "print(eva3)\n",
    "eva2=model2save.evaluate(train65,label65)\n",
    "print(eva2)\n",
    "eva1=model1save.evaluate(train65,label65)\n",
    "print(eva1)\n"
   ]
  },
  {
   "cell_type": "code",
   "execution_count": 1,
   "metadata": {},
   "outputs": [
    {
     "ename": "NameError",
     "evalue": "name 'model1save' is not defined",
     "output_type": "error",
     "traceback": [
      "\u001b[0;31m---------------------------------------------------------------------------\u001b[0m",
      "\u001b[0;31mNameError\u001b[0m                                 Traceback (most recent call last)",
      "\u001b[0;32m<ipython-input-1-b84c9189b52c>\u001b[0m in \u001b[0;36m<module>\u001b[0;34m()\u001b[0m\n\u001b[0;32m----> 1\u001b[0;31m \u001b[0mscore1\u001b[0m\u001b[0;34m=\u001b[0m\u001b[0mmodel1save\u001b[0m\u001b[0;34m.\u001b[0m\u001b[0mpredict\u001b[0m\u001b[0;34m(\u001b[0m\u001b[0mc\u001b[0m\u001b[0;34m)\u001b[0m\u001b[0;34m\u001b[0m\u001b[0m\n\u001b[0m\u001b[1;32m      2\u001b[0m \u001b[0mscore2\u001b[0m\u001b[0;34m=\u001b[0m\u001b[0mmodel2save\u001b[0m\u001b[0;34m.\u001b[0m\u001b[0mpredict\u001b[0m\u001b[0;34m(\u001b[0m\u001b[0mc\u001b[0m\u001b[0;34m)\u001b[0m\u001b[0;34m\u001b[0m\u001b[0m\n\u001b[1;32m      3\u001b[0m \u001b[0mscore3\u001b[0m\u001b[0;34m=\u001b[0m\u001b[0mmodel3save\u001b[0m\u001b[0;34m.\u001b[0m\u001b[0mpredict\u001b[0m\u001b[0;34m(\u001b[0m\u001b[0mc\u001b[0m\u001b[0;34m)\u001b[0m\u001b[0;34m\u001b[0m\u001b[0m\n\u001b[1;32m      4\u001b[0m \u001b[0mscorefinal\u001b[0m\u001b[0;34m=\u001b[0m\u001b[0mnp\u001b[0m\u001b[0;34m.\u001b[0m\u001b[0mzeros\u001b[0m\u001b[0;34m(\u001b[0m\u001b[0mshape\u001b[0m\u001b[0;34m=\u001b[0m\u001b[0;34m(\u001b[0m\u001b[0;36m117\u001b[0m\u001b[0;34m)\u001b[0m\u001b[0;34m)\u001b[0m\u001b[0;34m\u001b[0m\u001b[0m\n\u001b[1;32m      5\u001b[0m \u001b[0mn\u001b[0m\u001b[0;34m=\u001b[0m\u001b[0;36m0\u001b[0m\u001b[0;34m\u001b[0m\u001b[0m\n",
      "\u001b[0;31mNameError\u001b[0m: name 'model1save' is not defined"
     ]
    }
   ],
   "source": [
    "score1=model1save.predict(c)\n",
    "score2=model2save.predict(c)\n",
    "score3=model3save.predict(c)\n",
    "scorefinal=np.zeros(shape=(117))\n",
    "n=0\n",
    "for i in range(0,117):\n",
    "    a=score1[i]\n",
    "    b=score2[i]\n",
    "    d=score3[i]\n",
    "    if(max(a,b,d)>0.55):\n",
    "        scorefinal[i]=max(a,b,d)\n",
    "        n=n+1\n",
    "    if(min(a,b,d)<0.45):\n",
    "        scorefinal[i]=min(a,b,d)\n",
    "        n=n+1\n",
    "print(n)\n",
    "for i in range(0,117):\n",
    "    print(scorefinal[i])\n",
    "    "
   ]
  },
  {
   "cell_type": "code",
   "execution_count": 24,
   "metadata": {},
   "outputs": [],
   "source": [
    "from keras import regularizers\n",
    "model4=models.Sequential()\n",
    "model4.add(layers.Conv3D(32,(3,3,3),activation='relu',input_shape=(30,30,30,1)))\n",
    "\n",
    "model4.add(layers.MaxPooling3D((2,2,2)))\n",
    "model4.add(layers.Conv3D(64,(3,3,3),activation='relu'))\n",
    "\n",
    "model4.add(layers.MaxPooling3D((2,2,2)))\n",
    "\n",
    "\n",
    "model4.add(layers.Flatten())\n",
    "model4.add(layers.Dropout(0.5))\n",
    "model4.add(layers.Dense(1024,activation='relu'))\n",
    "model4.add(layers.Dense(1,activation='sigmoid'))\n",
    "\n",
    "from keras import optimizers\n",
    "\n",
    "model4.compile(loss='binary_crossentropy',optimizer=optimizers.RMSprop(lr=0.0001),metrics=['accuracy'])"
   ]
  },
  {
   "cell_type": "code",
   "execution_count": 27,
   "metadata": {},
   "outputs": [
    {
     "name": "stdout",
     "output_type": "stream",
     "text": [
      "Train on 413 samples, validate on 104 samples\n",
      "Epoch 1/5\n",
      "413/413 [==============================] - 10s 24ms/step - loss: 0.6113 - acc: 0.6586 - val_loss: 0.5364 - val_acc: 0.8750\n",
      "Epoch 2/5\n",
      "413/413 [==============================] - 10s 24ms/step - loss: 0.5951 - acc: 0.7046 - val_loss: 0.5423 - val_acc: 0.8077\n",
      "Epoch 3/5\n",
      "413/413 [==============================] - 10s 24ms/step - loss: 0.5667 - acc: 0.7361 - val_loss: 0.5691 - val_acc: 0.7212\n",
      "Epoch 4/5\n",
      "413/413 [==============================] - 10s 24ms/step - loss: 0.5537 - acc: 0.7094 - val_loss: 0.5088 - val_acc: 0.7019\n",
      "Epoch 5/5\n",
      "413/413 [==============================] - 10s 24ms/step - loss: 0.5316 - acc: 0.7409 - val_loss: 0.5068 - val_acc: 0.8269\n"
     ]
    },
    {
     "data": {
      "text/plain": [
       "<keras.callbacks.History at 0x7fc886488550>"
      ]
     },
     "execution_count": 27,
     "metadata": {},
     "output_type": "execute_result"
    }
   ],
   "source": [
    "from keras.callbacks import EarlyStopping\n",
    "early_stopping2=EarlyStopping(monitor='val_loss',patience=4,mode='min')\n",
    "model4.fit(train4,label4,epochs=5,batch_size=32,validation_split=0.2,callbacks=[early_stopping2])"
   ]
  },
  {
   "cell_type": "code",
   "execution_count": 28,
   "metadata": {},
   "outputs": [
    {
     "name": "stdout",
     "output_type": "stream",
     "text": [
      "65/65 [==============================] - 0s 7ms/step\n",
      "[0.7291619245822613, 0.49230769230769234]\n"
     ]
    }
   ],
   "source": [
    "eva2=model4.evaluate(train65,label65)\n",
    "print(eva2)"
   ]
  },
  {
   "cell_type": "code",
   "execution_count": null,
   "metadata": {},
   "outputs": [],
   "source": []
  }
 ],
 "metadata": {
  "kernelspec": {
   "display_name": "conda_tensorflow_p36",
   "language": "python",
   "name": "conda_tensorflow_p36"
  },
  "language_info": {
   "codemirror_mode": {
    "name": "ipython",
    "version": 3
   },
   "file_extension": ".py",
   "mimetype": "text/x-python",
   "name": "python",
   "nbconvert_exporter": "python",
   "pygments_lexer": "ipython3",
   "version": "3.6.5"
  }
 },
 "nbformat": 4,
 "nbformat_minor": 2
}
